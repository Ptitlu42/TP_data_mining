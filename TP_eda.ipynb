{
 "cells": [
  {
   "cell_type": "markdown",
   "metadata": {},
   "source": [
    "# TP : EDA + Prétraitement"
   ]
  },
  {
   "cell_type": "markdown",
   "metadata": {},
   "source": [
    "Nom et prénom : BEYER-BONNIARD Lucas"
   ]
  },
  {
   "cell_type": "markdown",
   "metadata": {},
   "source": [
    "Nous allons exploiter un jeu de données au format CSV afin de mettre en pratique les concepts abordés durant le cours.\n",
    "\n",
    "1 - Analyse exploratoire des données :\n",
    "\n",
    "* Calculer les statistiques de base, telles que la moyenne, la médiane, la variance, le maximum et le minimum.\n",
    "* Examiner les distributions et identifier les valeurs aberrantes.\n",
    "* Analyse univariée / bivariée / multivariée\n",
    "* Calculer les corrélations entre les variables.\n",
    "\n",
    "2 - Prétraitement de données:\n",
    "* Traiter les valeurs manquantes.\n",
    "* Traiter les valeurs aberrantes.\n",
    "* Encoder les variables qualitatives.\n",
    "* Créer des nouvelles variables\n",
    "\n",
    "Ceci est un simple rappel de quelques étapes. Vous êtes libre d'effectuer l'analyse et la préparation des données dans l'ordre et avec les méthodes de votre choix."
   ]
  },
  {
   "cell_type": "markdown",
   "metadata": {},
   "source": [
    "Dans ce TP, votre note sera attribuée en fonction des éléments suivants :\n",
    "- Clarté et Structure du Rapport 20%\n",
    "- Approche et Méthodes 30%\n",
    "- Résultats et Interprétation 30%\n",
    "- Code et Exécution 20%"
   ]
  },
  {
   "cell_type": "markdown",
   "metadata": {},
   "source": [
    "## L'objectif du projet \n",
    "\n",
    "Le marché des voitures d'occasion en Inde connaît une forte demande, surpassant désormais celui des voitures neuves. Cars4U, une start-up technologique, cherche à exploiter cette tendance. Étant donné l'incertitude élevée dans la tarification et l'approvisionnement des voitures d'occasion, il est crucial de développer un modèle de tarification efficace.\n",
    "\n",
    "L'objectif de ce TP est de réaliser une analyse exploratoire des données afin de comprendre les facteurs influençant le prix des voitures d'occasion et d'obtenir des résultats sur ces éléments. Un autre objectif est de préparer le dataset pour la modélisation, par exemple en vue d'une régression linéaire, pour prédire de manière plus précise le prix des véhicules."
   ]
  },
  {
   "cell_type": "markdown",
   "metadata": {},
   "source": [
    "## Le jeu de données \n",
    "\n",
    "Télécharger le fichier used_cars_data.csv qui sera notre jeu de données pour ce TP. https://www.kaggle.com/datasets/sukhmanibedi/cars4u "
   ]
  },
  {
   "cell_type": "markdown",
   "metadata": {},
   "source": [
    "Les attributs sont définis comme suit :\n",
    "\n",
    "* S.No. : Numéro de série\n",
    "* Name : Nom de la voiture, incluant la marque et le modèle\n",
    "* Location : ville où la voiture est vendue ou disponible à l'achat\n",
    "* Year : Année de fabrication de la voiture\n",
    "* Kilometers_driven : Le nombre total de kilomètres parcourus par le précédent propriétaire ou les précédents propriétaires, en kilomètres (KM)\n",
    "* Fuel_Type : Le type de carburant utilisé par la voiture (Essence, Diesel, Électrique, CNG, LPG)\n",
    "* Transmission : Le type de transmission de la voiture (Automatique / Manuelle)\n",
    "* Owner : Type de propriétaire\n",
    "* Mileage : La consommation standard de la voiture, exprimée en km/litre ou km/kg\n",
    "* Engine : La cylindrée du moteur en CC\n",
    "* Power : La puissance maximale du moteur en chevaux-vapeur en bhp\n",
    "* Seats : Le nombre de sièges dans la voiture\n",
    "* New_Price : Le prix d'une voiture neuve du même modèle en INR Lakhs (1 Lakh = 100 000) et en Crore\n",
    "* Price : Le prix de la voiture d'occasion en INR Lakhs (1 Lakh = 100 000)"
   ]
  },
  {
   "cell_type": "code",
   "execution_count": 1,
   "metadata": {},
   "outputs": [],
   "source": [
    "import pandas as pd\n",
    "import numpy as np\n",
    "\n",
    "df = pd.read_csv('used_cars_data.csv')"
   ]
  },
  {
   "cell_type": "code",
   "execution_count": 5,
   "metadata": {},
   "outputs": [
    {
     "name": "stdout",
     "output_type": "stream",
     "text": [
      "Basic descriptive statistics for numerical variables:\n",
      "             S.No.         Year  Kilometers_Driven        Seats        Price\n",
      "count  7253.000000  7253.000000       7.253000e+03  7200.000000  6019.000000\n",
      "mean   3626.000000  2013.365366       5.869906e+04     5.279722     9.479468\n",
      "std    2093.905084     3.254421       8.442772e+04     0.811660    11.187917\n",
      "min       0.000000  1996.000000       1.710000e+02     0.000000     0.440000\n",
      "25%    1813.000000  2011.000000       3.400000e+04     5.000000     3.500000\n",
      "50%    3626.000000  2014.000000       5.341600e+04     5.000000     5.640000\n",
      "75%    5439.000000  2016.000000       7.300000e+04     5.000000     9.950000\n",
      "max    7252.000000  2019.000000       6.500000e+06    10.000000   160.000000\n",
      "\n",
      "Variance for each numerical variable:\n",
      "S.No.: 4384438.5\n",
      "Year: 10.6\n",
      "Kilometers_Driven: 7128040002.8\n",
      "Seats: 0.7\n",
      "Price: 125.2\n"
     ]
    }
   ],
   "source": [
    "print('Basic descriptive statistics for numerical variables:')\n",
    "print(df.describe())\n",
    "\n",
    "numerical_columns = df.select_dtypes(include=[np.number]).columns\n",
    "\n",
    "print('\\nVariance for each numerical variable:')\n",
    "for col in numerical_columns:\n",
    "    print(f'{col}: {df[col].var():.1vf}')"
   ]
  }
 ],
 "metadata": {
  "kernelspec": {
   "display_name": "Python 3",
   "language": "python",
   "name": "python3"
  },
  "language_info": {
   "codemirror_mode": {
    "name": "ipython",
    "version": 3
   },
   "file_extension": ".py",
   "mimetype": "text/x-python",
   "name": "python",
   "nbconvert_exporter": "python",
   "pygments_lexer": "ipython3",
   "version": "3.12.8"
  }
 },
 "nbformat": 4,
 "nbformat_minor": 2
}
