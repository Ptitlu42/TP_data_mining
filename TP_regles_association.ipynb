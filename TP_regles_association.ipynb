{
 "cells": [
  {
   "cell_type": "markdown",
   "id": "11d792a5",
   "metadata": {},
   "source": [
    "## TP : Règles d'associations\n"
   ]
  },
  {
   "cell_type": "markdown",
   "id": "deb79706",
   "metadata": {},
   "source": [
    "Nom et prénom : [**BEYER-BONNIARD Lucas**](https://github.com/Ptitlu42)\n"
   ]
  },
  {
   "cell_type": "markdown",
   "id": "b6e5764a-b6d8-4963-8cbb-df9f451ebd72",
   "metadata": {},
   "source": [
    "\n",
    "(a) Lire le fichier **\"ratings_clean_names.csv\"**\n",
    "\n",
    "(b) Transformez le tableau pour obtenir une structure où les utilisateurs correspondent aux \"transactions\" (lignes) et les films aux articles (colonnes).  \n",
    "\n",
    "(c) Convertissez le tableau en un ensemble de données binaire où 0 signifie \"non visionné\" et 1 signifie \"visionné\".  \n",
    "\n",
    "(d) Utilisez la bibliothèque **mlxtend** pour extraire les motifs fréquents.   \n",
    "Installer la version 0.23.1  **pip install mlxtend==0.23.1**\n",
    "Découvrir les ensembles d'éléments fréquents. Par exemple, utilisez les paramètres suivants :  \n",
    "   - `min_support=0.05`,  \n",
    "   - `max_len=3`,  \n",
    "   - et l'option `use_colnames=True` pour des résultats facilement compréhensibles.  \n",
    "   (Le calcul prend moins d'une minute).  \n",
    "\n",
    "(e) Affichez les 10 ensembles d'éléments les plus fréquents.  \n",
    "   Vous pouvez utiliser `pd.set_option('display.max_colwidth', None)` pour forcer l'affichage complet des colonnes.  \n",
    "\n",
    "(f) Comptez la taille des ensembles d'éléments.  \n",
    "\n",
    "(g) Filtrer pour afficher les ensembles de 2 éléments les plus fréquents, puis  les ensembles de 1 élément les plus fréquents.\n",
    "\n",
    "(h) Qu'est ce que vous remarquez ? \n",
    "\n",
    "## Règles d'association\n",
    "\n",
    "(a) Utilisez `mlxtend.frequent_patterns.association_rules` pour calculer les scores typiques des motifs fréquents.  \n",
    "\n",
    "(b) Triez les règles d'association par leur **lift** et interprétez les observations.  \n",
    "\n",
    "(c) Recherchez les antécédents qui expliquent le mieux un conséquent donné.\n",
    "\n",
    "(d) Explorez les résultats en ajustant différents seuils pour le support, la longueur maximale et les scores des règles d'association afin de trouver des explications pertinentes sur les raisons pour lesquelles certaines personnes qui aiment certains films ont tendance à en aimer d'autres.  \n"
   ]
  },
  {
   "cell_type": "markdown",
   "id": "b41dc2e0",
   "metadata": {},
   "source": []
  },
  {
   "cell_type": "markdown",
   "id": "4c99e391",
   "metadata": {},
   "source": [
    "## TP\n"
   ]
  },
  {
   "cell_type": "markdown",
   "id": "80ca23bf",
   "metadata": {},
   "source": [
    "### (a) Lire le fichier **\"ratings_clean_names.csv\"**\n",
    "\n"
   ]
  },
  {
   "cell_type": "code",
   "execution_count": 4,
   "id": "a19b50e8",
   "metadata": {},
   "outputs": [],
   "source": [
    "%pip install mixtend\n",
    "import pandas as pd\n",
    "import numpy as np\n",
    "from mlxtend.frequent_patterns import apriori\n",
    "from mlxtend.frequent_patterns import association_rules"
   ]
  }
 ],
 "metadata": {
  "kernelspec": {
   "display_name": "Python 3",
   "language": "python",
   "name": "python3"
  },
  "language_info": {
   "codemirror_mode": {
    "name": "ipython",
    "version": 3
   },
   "file_extension": ".py",
   "mimetype": "text/x-python",
   "name": "python",
   "nbconvert_exporter": "python",
   "pygments_lexer": "ipython3",
   "version": "3.12.9"
  }
 },
 "nbformat": 4,
 "nbformat_minor": 5
}
