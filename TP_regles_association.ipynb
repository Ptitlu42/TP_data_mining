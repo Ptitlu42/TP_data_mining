{
 "cells": [
  {
   "cell_type": "markdown",
   "id": "11d792a5",
   "metadata": {},
   "source": [
    "## TP : Règles d'associations\n"
   ]
  },
  {
   "cell_type": "markdown",
   "id": "deb79706",
   "metadata": {},
   "source": [
    "Nom et prénom : [**BEYER-BONNIARD Lucas**](https://github.com/Ptitlu42)\n"
   ]
  },
  {
   "cell_type": "markdown",
   "id": "b6e5764a-b6d8-4963-8cbb-df9f451ebd72",
   "metadata": {},
   "source": [
    "\n",
    "(a) Lire le fichier **\"ratings_clean_names.csv\"**\n",
    "\n",
    "(b) Transformez le tableau pour obtenir une structure où les utilisateurs correspondent aux \"transactions\" (lignes) et les films aux articles (colonnes).  \n",
    "\n",
    "(c) Convertissez le tableau en un ensemble de données binaire où 0 signifie \"non visionné\" et 1 signifie \"visionné\".  \n",
    "\n",
    "(d) Utilisez la bibliothèque **mlxtend** pour extraire les motifs fréquents.   \n",
    "Installer la version 0.23.1  **pip install mlxtend==0.23.1**\n",
    "Découvrir les ensembles d'éléments fréquents. Par exemple, utilisez les paramètres suivants :  \n",
    "   - `min_support=0.05`,  \n",
    "   - `max_len=3`,  \n",
    "   - et l'option `use_colnames=True` pour des résultats facilement compréhensibles.  \n",
    "   (Le calcul prend moins d'une minute).  \n",
    "\n",
    "(e) Affichez les 10 ensembles d'éléments les plus fréquents.  \n",
    "   Vous pouvez utiliser `pd.set_option('display.max_colwidth', None)` pour forcer l'affichage complet des colonnes.  \n",
    "\n",
    "(f) Comptez la taille des ensembles d'éléments.  \n",
    "\n",
    "(g) Filtrer pour afficher les ensembles de 2 éléments les plus fréquents, puis  les ensembles de 1 élément les plus fréquents.\n",
    "\n",
    "(h) Qu'est ce que vous remarquez ? \n",
    "\n",
    "## Règles d'association\n",
    "\n",
    "(a) Utilisez `mlxtend.frequent_patterns.association_rules` pour calculer les scores typiques des motifs fréquents.  \n",
    "\n",
    "(b) Triez les règles d'association par leur **lift** et interprétez les observations.  \n",
    "\n",
    "(c) Recherchez les antécédents qui expliquent le mieux un conséquent donné.\n",
    "\n",
    "(d) Explorez les résultats en ajustant différents seuils pour le support, la longueur maximale et les scores des règles d'association afin de trouver des explications pertinentes sur les raisons pour lesquelles certaines personnes qui aiment certains films ont tendance à en aimer d'autres.  \n"
   ]
  },
  {
   "cell_type": "markdown",
   "id": "b41dc2e0",
   "metadata": {},
   "source": []
  },
  {
   "cell_type": "markdown",
   "id": "4c99e391",
   "metadata": {},
   "source": [
    "## TP\n"
   ]
  },
  {
   "cell_type": "markdown",
   "id": "80ca23bf",
   "metadata": {},
   "source": [
    "### (a) Lire le fichier **\"ratings_clean_names.csv\"**\n",
    "\n"
   ]
  },
  {
   "cell_type": "code",
   "execution_count": 8,
   "id": "26eaf18e",
   "metadata": {},
   "outputs": [
    {
     "name": "stderr",
     "output_type": "stream",
     "text": [
      "/home/ptitlu/Data/code/cours/fouille_donnée/.conda/lib/python3.12/pty.py:95: DeprecationWarning: This process (pid=3422) is multi-threaded, use of forkpty() may lead to deadlocks in the child.\n",
      "  pid, fd = os.forkpty()\n"
     ]
    },
    {
     "name": "stdout",
     "output_type": "stream",
     "text": [
      "Requirement already satisfied: mlxtend in ./.conda/lib/python3.12/site-packages (0.23.4)\n",
      "Requirement already satisfied: scipy>=1.2.1 in ./.conda/lib/python3.12/site-packages (from mlxtend) (1.15.1)\n",
      "Requirement already satisfied: numpy>=1.16.2 in /home/ptitlu/.local/lib/python3.12/site-packages (from mlxtend) (2.1.3)\n",
      "Requirement already satisfied: pandas>=0.24.2 in ./.conda/lib/python3.12/site-packages (from mlxtend) (2.2.3)\n",
      "Requirement already satisfied: scikit-learn>=1.3.1 in ./.conda/lib/python3.12/site-packages (from mlxtend) (1.6.1)\n",
      "Requirement already satisfied: matplotlib>=3.0.0 in ./.conda/lib/python3.12/site-packages (from mlxtend) (3.10.0)\n",
      "Requirement already satisfied: joblib>=0.13.2 in ./.conda/lib/python3.12/site-packages (from mlxtend) (1.4.2)\n",
      "Requirement already satisfied: contourpy>=1.0.1 in ./.conda/lib/python3.12/site-packages (from matplotlib>=3.0.0->mlxtend) (1.3.1)\n",
      "Requirement already satisfied: cycler>=0.10 in ./.conda/lib/python3.12/site-packages (from matplotlib>=3.0.0->mlxtend) (0.12.1)\n",
      "Requirement already satisfied: fonttools>=4.22.0 in ./.conda/lib/python3.12/site-packages (from matplotlib>=3.0.0->mlxtend) (4.56.0)\n",
      "Requirement already satisfied: kiwisolver>=1.3.1 in ./.conda/lib/python3.12/site-packages (from matplotlib>=3.0.0->mlxtend) (1.4.8)\n",
      "Requirement already satisfied: packaging>=20.0 in /home/ptitlu/.local/lib/python3.12/site-packages (from matplotlib>=3.0.0->mlxtend) (24.2)\n",
      "Requirement already satisfied: pillow>=8 in ./.conda/lib/python3.12/site-packages (from matplotlib>=3.0.0->mlxtend) (11.1.0)\n",
      "Requirement already satisfied: pyparsing>=2.3.1 in ./.conda/lib/python3.12/site-packages (from matplotlib>=3.0.0->mlxtend) (3.2.1)\n",
      "Requirement already satisfied: python-dateutil>=2.7 in /home/ptitlu/.local/lib/python3.12/site-packages (from matplotlib>=3.0.0->mlxtend) (2.9.0.post0)\n",
      "Requirement already satisfied: pytz>=2020.1 in ./.conda/lib/python3.12/site-packages (from pandas>=0.24.2->mlxtend) (2025.1)\n",
      "Requirement already satisfied: tzdata>=2022.7 in ./.conda/lib/python3.12/site-packages (from pandas>=0.24.2->mlxtend) (2025.1)\n",
      "Requirement already satisfied: threadpoolctl>=3.1.0 in ./.conda/lib/python3.12/site-packages (from scikit-learn>=1.3.1->mlxtend) (3.5.0)\n",
      "Requirement already satisfied: six>=1.5 in /home/ptitlu/.local/lib/python3.12/site-packages (from python-dateutil>=2.7->matplotlib>=3.0.0->mlxtend) (1.17.0)\n",
      "Note: you may need to restart the kernel to use updated packages.\n"
     ]
    }
   ],
   "source": [
    "%pip install mlxtend\n",
    "import pandas as pd\n",
    "import numpy as np\n",
    "from mlxtend.frequent_patterns import apriori\n",
    "from mlxtend.frequent_patterns import association_rules"
   ]
  },
  {
   "cell_type": "code",
   "execution_count": 9,
   "id": "d97995c2",
   "metadata": {},
   "outputs": [
    {
     "data": {
      "text/html": [
       "<div>\n",
       "<style scoped>\n",
       "    .dataframe tbody tr th:only-of-type {\n",
       "        vertical-align: middle;\n",
       "    }\n",
       "\n",
       "    .dataframe tbody tr th {\n",
       "        vertical-align: top;\n",
       "    }\n",
       "\n",
       "    .dataframe thead th {\n",
       "        text-align: right;\n",
       "    }\n",
       "</style>\n",
       "<table border=\"1\" class=\"dataframe\">\n",
       "  <thead>\n",
       "    <tr style=\"text-align: right;\">\n",
       "      <th></th>\n",
       "      <th>userId</th>\n",
       "      <th>rating</th>\n",
       "      <th>movieId</th>\n",
       "      <th>timestamp</th>\n",
       "      <th>title_safe</th>\n",
       "    </tr>\n",
       "  </thead>\n",
       "  <tbody>\n",
       "    <tr>\n",
       "      <th>0</th>\n",
       "      <td>2038</td>\n",
       "      <td>2.0</td>\n",
       "      <td>18</td>\n",
       "      <td>1305046590</td>\n",
       "      <td>Four Rooms(5.0)</td>\n",
       "    </tr>\n",
       "    <tr>\n",
       "      <th>1</th>\n",
       "      <td>2858</td>\n",
       "      <td>4.0</td>\n",
       "      <td>18</td>\n",
       "      <td>856639289</td>\n",
       "      <td>Four Rooms(5.0)</td>\n",
       "    </tr>\n",
       "    <tr>\n",
       "      <th>2</th>\n",
       "      <td>2928</td>\n",
       "      <td>4.0</td>\n",
       "      <td>18</td>\n",
       "      <td>862900088</td>\n",
       "      <td>Four Rooms(5.0)</td>\n",
       "    </tr>\n",
       "    <tr>\n",
       "      <th>3</th>\n",
       "      <td>5687</td>\n",
       "      <td>4.0</td>\n",
       "      <td>18</td>\n",
       "      <td>865421714</td>\n",
       "      <td>Four Rooms(5.0)</td>\n",
       "    </tr>\n",
       "    <tr>\n",
       "      <th>4</th>\n",
       "      <td>6795</td>\n",
       "      <td>2.5</td>\n",
       "      <td>18</td>\n",
       "      <td>1336325802</td>\n",
       "      <td>Four Rooms(5.0)</td>\n",
       "    </tr>\n",
       "  </tbody>\n",
       "</table>\n",
       "</div>"
      ],
      "text/plain": [
       "   userId  rating  movieId   timestamp       title_safe\n",
       "0    2038     2.0       18  1305046590  Four Rooms(5.0)\n",
       "1    2858     4.0       18   856639289  Four Rooms(5.0)\n",
       "2    2928     4.0       18   862900088  Four Rooms(5.0)\n",
       "3    5687     4.0       18   865421714  Four Rooms(5.0)\n",
       "4    6795     2.5       18  1336325802  Four Rooms(5.0)"
      ]
     },
     "execution_count": 9,
     "metadata": {},
     "output_type": "execute_result"
    }
   ],
   "source": [
    "df = pd.read_csv('ratings_clean_names.csv')\n",
    "df.head()"
   ]
  },
  {
   "cell_type": "markdown",
   "id": "32050cd4",
   "metadata": {},
   "source": [
    "### (b) Transformez le tableau pour obtenir une structure où les utilisateurs correspondent aux \"transactions\" (lignes) et les films aux articles (colonnes).  \n"
   ]
  },
  {
   "cell_type": "code",
   "execution_count": 13,
   "id": "e65cf0c4",
   "metadata": {},
   "outputs": [
    {
     "name": "stdout",
     "output_type": "stream",
     "text": [
      "Dimensions de la table pivot : (17906, 987)\n"
     ]
    }
   ],
   "source": [
    "pivot_table = df.pivot_table(\n",
    "    index='userId',    \n",
    "    columns='title_safe',\n",
    "    values='rating',\n",
    "    aggfunc='count',\n",
    "    fill_value=0\n",
    ")\n",
    "\n",
    "print(\"Dimensions de la table pivot :\", pivot_table.shape)\n",
    "pivot_table.head()"
   ]
  }
 ],
 "metadata": {
  "kernelspec": {
   "display_name": "Python 3",
   "language": "python",
   "name": "python3"
  },
  "language_info": {
   "codemirror_mode": {
    "name": "ipython",
    "version": 3
   },
   "file_extension": ".py",
   "mimetype": "text/x-python",
   "name": "python",
   "nbconvert_exporter": "python",
   "pygments_lexer": "ipython3",
   "version": "3.12.9"
  }
 },
 "nbformat": 4,
 "nbformat_minor": 5
}
